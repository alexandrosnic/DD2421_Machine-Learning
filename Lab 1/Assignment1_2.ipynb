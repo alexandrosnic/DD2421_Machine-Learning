{
 "cells": [
  {
   "cell_type": "markdown",
   "metadata": {},
   "source": [
    "# Decision Tree Assignment"
   ]
  },
  {
   "cell_type": "markdown",
   "metadata": {},
   "source": [
    "We first import the libraries we are going to use. \n",
    "monkdata package consists the three MONK databases.\n",
    "dtree package contains the required algorithms for building a decision tree."
   ]
  },
  {
   "cell_type": "code",
   "execution_count": 1,
   "metadata": {},
   "outputs": [],
   "source": [
    "import monkdata as m\n",
    "import dtree as d\n",
    "import drawtree_qt5 as qt5\n",
    "import random\n",
    "from prettytable import PrettyTable\n",
    "import numpy as np\n",
    "import matplotlib.pyplot as plt"
   ]
  },
  {
   "cell_type": "markdown",
   "metadata": {},
   "source": [
    "# Assignment_0: Which of the three databases is the most difficult for a decision tree algorithm to learn?"
   ]
  },
  {
   "cell_type": "markdown",
   "metadata": {},
   "source": []
  },
  {
   "cell_type": "markdown",
   "metadata": {},
   "source": [
    "# Assignment_1: Calculate the entropy of the TRAINING datasets.\n",
    "\n",
    "(Note: Entropy is being used in order to define which is the best \"question\" - attribute - to choose from, to split the input data into subsets. For that reason, we have to run the entropy algorithm on the training set, not the test set)"
   ]
  },
  {
   "cell_type": "code",
   "execution_count": 2,
   "metadata": {},
   "outputs": [
    {
     "name": "stdout",
     "output_type": "stream",
     "text": [
      "+---------+--------------------+\n",
      "| Dataset |      Entropy       |\n",
      "+---------+--------------------+\n",
      "|  MONK1  |        1.0         |\n",
      "|  MONK2  | 0.957117428264771  |\n",
      "|  MONK3  | 0.9998061328047111 |\n",
      "+---------+--------------------+\n",
      "\n"
     ]
    }
   ],
   "source": [
    "# Calculate the entropy of each monk dataset\n",
    "entropy_table = PrettyTable(['Dataset', 'Entropy'])\n",
    "                          \n",
    "monk1_entropy = d.entropy(m.monk1)\n",
    "row1 = ['MONK1', monk1_entropy]\n",
    "entropy_table.add_row(row1)\n",
    "\n",
    "monk2_entropy = d.entropy(m.monk2)\n",
    "row2 = ['MONK2', monk2_entropy]\n",
    "entropy_table.add_row(row2)\n",
    "\n",
    "monk3_entropy = d.entropy(m.monk3)\n",
    "row3 = ['MONK3', monk3_entropy]\n",
    "entropy_table.add_row(row3)\n",
    "\n",
    "print(entropy_table)\n",
    "print()"
   ]
  },
  {
   "cell_type": "markdown",
   "metadata": {},
   "source": [
    "# Assignment_2a: Explain entropy for a uniform distribution and a non-uniform distribution."
   ]
  },
  {
   "cell_type": "markdown",
   "metadata": {},
   "source": [
    "Entropy describes the uncertainty of a problem. A problem with high entropy means that its result is more difficult to predict, whereas a low entropy problem is more predictable. \n",
    "\n",
    "A uniform distribution (outcomes are equally probable) has the same probability of resulting to each and any of the possible solutions, making it logarithmically unpredictable. This can be also confirmed by the mathematical equation that describes entropy.\n",
    "On the other hand, a non-uniform ditribution (one of the values is more probable to occur than the others) has higher probability for some of its solutions to be the result, making it more predictable, and thus lower entropy."
   ]
  },
  {
   "cell_type": "markdown",
   "metadata": {},
   "source": [
    "# Assignment_2b: Present some example distributions with high and low entropy."
   ]
  },
  {
   "cell_type": "markdown",
   "metadata": {},
   "source": [
    "An example of this, is the comparison of a normal with a fake dice. The normal dice has the same probability of resulting in any of its 6 faces, making it unpredictable, thus high entropy. The fake dice has higher probability of resulting in the fake face, as opposed to the other faces, making it more predictable and thus its has a lower entropy than the normal dice."
   ]
  },
  {
   "cell_type": "markdown",
   "metadata": {},
   "source": [
    "# Assignment_3: Calculate the expected information gain corresponding to each of the six attributes."
   ]
  },
  {
   "cell_type": "code",
   "execution_count": 3,
   "metadata": {},
   "outputs": [
    {
     "name": "stdout",
     "output_type": "stream",
     "text": [
      "+---------+-----------------------+-----------------------+-----------------------+----------------------+---------------------+-----------------------+\n",
      "| Dataset |           a1          |           a2          |           a3          |          a4          |          a5         |           a6          |\n",
      "+---------+-----------------------+-----------------------+-----------------------+----------------------+---------------------+-----------------------+\n",
      "|  MONK1  |  0.07527255560831925  |  0.005838429962909286 |  0.00470756661729721  | 0.02631169650768228  | 0.28703074971578435 | 0.0007578557158638421 |\n",
      "|  MONK2  | 0.0037561773775118823 | 0.0024584986660830532 | 0.0010561477158920196 | 0.015664247292643818 | 0.01727717693791797 |  0.006247622236881467 |\n",
      "|  MONK3  |  0.007120868396071844 |  0.29373617350838865  | 0.0008311140445336207 | 0.002891817288654397 | 0.25591172461972755 |  0.007077026074097326 |\n",
      "+---------+-----------------------+-----------------------+-----------------------+----------------------+---------------------+-----------------------+\n",
      "\n"
     ]
    }
   ],
   "source": [
    "infGain_monk1 = []\n",
    "infGain_monk2 = []\n",
    "infGain_monk3 = []\n",
    "infGain_table = PrettyTable(['Dataset', 'a1', 'a2', 'a3', 'a4', 'a5', 'a6'])\n",
    "\n",
    "# Calculate the information gain of each attribute, for each monk dataset\n",
    "for i in range(len(m.attributes)):\n",
    "    infGain_monk1.append(d.averageGain(m.monk1, m.attributes[i]))\n",
    "    \n",
    "    infGain_monk2.append(d.averageGain(m.monk2, m.attributes[i]))\n",
    "    \n",
    "    infGain_monk3.append(d.averageGain(m.monk3, m.attributes[i]))\n",
    "\n",
    "row1 = ['MONK1']\n",
    "row1.extend(infGain_monk1)\n",
    "infGain_table.add_row(row1)\n",
    "\n",
    "row2 = ['MONK2']\n",
    "row2.extend(infGain_monk2)\n",
    "infGain_table.add_row(row2)\n",
    "\n",
    "row3 = ['MONK3']\n",
    "row3.extend(infGain_monk3)\n",
    "infGain_table.add_row(row3)\n",
    "print(infGain_table)\n",
    "print ()"
   ]
  },
  {
   "cell_type": "markdown",
   "metadata": {},
   "source": [
    "As it seems from the information gain matrix, the 5th attribute is the most effective to be used for splitting the 1st and 2nd databse, whereas for the 3rd database should be the 2nd attribute."
   ]
  },
  {
   "cell_type": "markdown",
   "metadata": {},
   "source": [
    "# Assignment_4: How does the entropy of the subsets, Sk, look like when the information gain is maximized? How can we motivate using the information gain as a heuristic for picking an attribute for splitting?"
   ]
  },
  {
   "cell_type": "markdown",
   "metadata": {},
   "source": [
    "Information gain is maximized either when the subset Sk formed using the k attribute, is much smaller than the initial S subset, either when the Entropy of using the k attribute is minimalized. That happens when, using the k attribute, the predictability of the result of the dataset increases. In other words, which of the attributes will give us the most clear distinction between the subsets, if we use it to split the initial dataset?\n",
    "\n",
    "=> Entropy increases => Unpredictable result => Attribute unsuitable for splitting\n",
    "Entropy decreases => Predictable result => Attribute suitable for splitting"
   ]
  },
  {
   "cell_type": "code",
   "execution_count": 4,
   "metadata": {},
   "outputs": [
    {
     "name": "stdout",
     "output_type": "stream",
     "text": [
      "[0.0, 0.0, 0.0, 0.0, 0.0, 0.0]\n"
     ]
    }
   ],
   "source": [
    "# Split the monk1 dataset to more subsets, for when the 5th attribute has the x value. What is the value??\n",
    "monk1_level1 = d.select(m.monk1, m.attributes[4], 1)\n",
    "\n",
    "# Calculate again the information gain for the new level\n",
    "infGain_monk1_l1 = []\n",
    "for i in range(len(m.attributes)):\n",
    "    infGain_monk1_l1.append(d.averageGain(monk1_level1, m.attributes[i]))\n",
    "    \n",
    "print(infGain_monk1_l1)\n",
    "\n",
    "# We have to do the same for level 2\n",
    "monk1_level2 = d.select(monk1_level1, m.attributes[4], 1)\n",
    "infGain_monk1_l2 = []\n",
    "for i in range(len(m.attributes)):\n",
    "    infGain_monk1_l2.append(d.averageGain(monk1_level2, m.attributes[i]))\n",
    "\n",
    "# Then obtain the majority class of each new subset, after the split\n",
    "#d.mostCommon(monk1_level2)\n",
    "\n",
    "# Compare it with the predefined way to build a tree\n",
    "# How compare it?\n",
    "\n",
    "# Automatically build tree for 1st dataset\n",
    "#buildedTree1 = d.buildTree(m.monk1, m.attributes,2)\n",
    "#print(buildedTree1)\n",
    "\n",
    "# Visualize the builded tree\n",
    "#qt5.drawTree(buildedTree1)"
   ]
  },
  {
   "cell_type": "markdown",
   "metadata": {},
   "source": [
    "# Assignment_5: Build the full decision trees for all three Monk datasets using buildTree. Then, use the function check to measure the performance of the decision tree on both the training and test datasets. Compute the train and test set errors for the three Monk datasets for the full trees. Were your assumptions about the datasets correct? Explain the results you get for the training and test datasets."
   ]
  },
  {
   "cell_type": "code",
   "execution_count": 5,
   "metadata": {},
   "outputs": [
    {
     "name": "stdout",
     "output_type": "stream",
     "text": [
      "+---------+---------------+---------------------+\n",
      "| Dataset | Error (train) |     Error (test)    |\n",
      "+---------+---------------+---------------------+\n",
      "|  MONK1  |      0.0      | 0.17129629629629628 |\n",
      "|  MONK2  |      0.0      | 0.30787037037037035 |\n",
      "|  MONK3  |      0.0      | 0.05555555555555558 |\n",
      "+---------+---------------+---------------------+\n"
     ]
    }
   ],
   "source": [
    "error_table = PrettyTable(['Dataset', 'Error (train)', 'Error (test)'])\n",
    "\n",
    "\n",
    "# Automatically build trees for all the datasets\n",
    "buildedTree1 = d.buildTree(m.monk1, m.attributes)\n",
    "buildedTree2 = d.buildTree(m.monk2, m.attributes)\n",
    "buildedTree3 = d.buildTree(m.monk3, m.attributes)\n",
    "\n",
    "# Measure the performance of the decision trees on both the training and test datasets.\n",
    "# d.check returns the number of the test samples that are positive when splitted using the proposed decision tree\n",
    "row1 = ['MONK1']\n",
    "row1.append(1 - d.check(buildedTree1, m.monk1))\n",
    "row1.append(1 - d.check(buildedTree1, m.monk1test))\n",
    "error_table.add_row(row1)\n",
    "\n",
    "row2 = ['MONK2']\n",
    "row2.append(1 - d.check(buildedTree2, m.monk2))\n",
    "row2.append(1 - d.check(buildedTree2, m.monk2test))\n",
    "error_table.add_row(row2)\n",
    "\n",
    "row3 = ['MONK3']\n",
    "row3.append(1 - d.check(buildedTree3, m.monk3))\n",
    "row3.append(1 - d.check(buildedTree3, m.monk3test))\n",
    "error_table.add_row(row3)\n",
    "\n",
    "print(error_table)"
   ]
  },
  {
   "cell_type": "markdown",
   "metadata": {},
   "source": [
    "It turned out that our initial assumptions were wrong, since the 3rd database seems to have the smallest error. The error on the training set is zero since we built full classification trees which classify perfectly all the data. However these are overfitting and that makes the information regarding the complexity of the datasets, gained from the test set unreliable."
   ]
  },
  {
   "cell_type": "markdown",
   "metadata": {},
   "source": [
    "# Assignment_6: Explain pruning from a bias variance trade-off perspective."
   ]
  },
  {
   "cell_type": "markdown",
   "metadata": {},
   "source": [
    "In complex models such as classification trees, the variance tends to be high. However in models that were directly built using the features of the data the variance tends to be small because they are actually an alternative representations of the dataset itself.\n",
    "As a result, by removing overfitted notes, an action called pruning, the bias of the model increases whereas the variance decreases."
   ]
  },
  {
   "cell_type": "markdown",
   "metadata": {},
   "source": [
    "# Assignment_7: Evaluate the effect pruning has on the test error for the monk1 and monk3 datasets, in particular determine the optimal partition into training and pruning by optimizing the parameter fraction. Plot the classiffcation error on the test sets as a function of the parameter fraction in {0.3, 0.4, 0.5, 0.6, 0.7, 0.8}."
   ]
  },
  {
   "cell_type": "code",
   "execution_count": 9,
   "metadata": {},
   "outputs": [
    {
     "name": "stdout",
     "output_type": "stream",
     "text": [
      "+---------------+---------+---------+---------+---------+---------+---------+\n",
      "|  Dataset/Stat |    a1   |    a2   |    a3   |    a4   |    a5   |    a6   |\n",
      "+---------------+---------+---------+---------+---------+---------+---------+\n",
      "|  MONK1 - mean | 0.23676 | 0.21009 | 0.18954 |  0.1544 | 0.13759 |  0.1388 |\n",
      "|  MONK3 - mean | 0.11278 | 0.09509 | 0.08074 | 0.08407 | 0.07824 | 0.06583 |\n",
      "| MONK1 - stdev | 0.04592 |  0.0494 | 0.04842 | 0.06189 | 0.05238 | 0.04229 |\n",
      "| MONK3 - stdev | 0.05916 | 0.05207 | 0.03392 | 0.03009 | 0.02859 | 0.01864 |\n",
      "+---------------+---------+---------+---------+---------+---------+---------+\n",
      "+---------+----------------------------+---------------------------+\n",
      "| Dataset | Mean error on Builded Tree | Mean error on Pruned Tree |\n",
      "+---------+----------------------------+---------------------------+\n",
      "|  MONK1  |    0.17129629629629628     |     0.1375925925925926    |\n",
      "|  MONK3  |    0.05555555555555558     |    0.06583333333333335    |\n",
      "+---------+----------------------------+---------------------------+\n"
     ]
    },
    {
     "data": {
      "image/png": "[encoded data removed]",
      "text/plain": [
       "<Figure size 432x288 with 1 Axes>"
      ]
     },
     "metadata": {
      "needs_background": "light"
     },
     "output_type": "display_data"
    },
    {
     "data": {
      "image/png": "[encoded data removed]",
      "text/plain": [
       "<Figure size 432x288 with 1 Axes>"
      ]
     },
     "metadata": {
      "needs_background": "light"
     },
     "output_type": "display_data"
    }
   ],
   "source": [
    "def partition(data, fraction):\n",
    "    ldata = list(data)\n",
    "    random.shuffle(ldata)\n",
    "    breakPoint = int(len(ldata) * fraction)\n",
    "    return ldata[:breakPoint], ldata[breakPoint:]\n",
    "\n",
    "def prune_trees(data, test):\n",
    "    pruned_tree = []\n",
    "    fractions = [0.3, 0.4, 0.5, 0.6, 0.7, 0.8]\n",
    "\n",
    "\n",
    "    for j in fractions:\n",
    "        train, validate = partition(data, j)\n",
    "        train_tree = d.buildTree(train, m.attributes)\n",
    "        train_forest = d.allPruned(train_tree)\n",
    "        optimized_tree = d.check(train_tree, validate)\n",
    "\n",
    "        best = train_tree\n",
    "\n",
    "        for i in train_forest:\n",
    "            temporary = d.check(i, validate)\n",
    "            if optimized_tree < temporary:\n",
    "                optimized_tree = temporary\n",
    "                best_tree = i\n",
    "\n",
    "        pruned_tree.append(1 - d.check(best, test))\n",
    "\n",
    "    return pruned_tree\n",
    "\n",
    "\n",
    "fractions = [0.3, 0.4, 0.5, 0.6, 0.7, 0.8]\n",
    "monk1_pruned = []\n",
    "monk3_pruned = []\n",
    "\n",
    "# Try 50 times to prune a tree using different fraction each time\n",
    "for i in range(50):\n",
    "    monk1_pruned.append(prune_trees(m.monk1, m.monk1test))\n",
    "    monk3_pruned.append(prune_trees(m.monk3, m.monk3test))\n",
    "\n",
    "monk1_pruned = np.transpose(monk1_pruned)\n",
    "monk3_pruned = np.transpose(monk3_pruned)\n",
    "\n",
    "# Calculate the mean and standard deviation of all the pruned trees\n",
    "mean1 = np.mean(monk1_pruned, axis=1)\n",
    "mean3 = np.mean(monk3_pruned, axis=1)\n",
    "std1 = np.std(monk1_pruned, axis=1)\n",
    "std3 = np.std(monk3_pruned, axis=1)\n",
    "\n",
    "# Create the statistics table of the average pruned tree for 1 and 3 dataset\n",
    "statistics_table = PrettyTable(['Dataset/Stat', 'a1', 'a2', 'a3', 'a4', 'a5', 'a6'])\n",
    "statistics_table.add_row(np.concatenate((['MONK1 - mean'], np.around(mean1, decimals=5)), axis=0))\n",
    "statistics_table.add_row(np.concatenate((['MONK3 - mean'], np.around(mean3, decimals=5)), axis=0))\n",
    "statistics_table.add_row(np.concatenate((['MONK1 - stdev'], np.around(std1, decimals=5)), axis=0))\n",
    "statistics_table.add_row(np.concatenate((['MONK3 - stdev'], np.around(std3, decimals=5)), axis=0))\n",
    "print(statistics_table)\n",
    "\n",
    "# Create the mean error table\n",
    "prune_table = PrettyTable(['Dataset', 'Mean error on Builded Tree', 'Mean error on Pruned Tree'])\n",
    "prune_table.add_row(['MONK1', 1 - d.check(buildedTree1, m.monk1test), np.amin(mean1)])\n",
    "prune_table.add_row(['MONK3', 1 - d.check(buildedTree3, m.monk3test), np.amin(mean3)])\n",
    "print(prune_table)\n",
    "\n",
    "# Plot the means of 1 and 3 dataset wrt to fractions\n",
    "plt.plot(fractions, mean1, color='#49abc2', marker='o', label=\"Means\")\n",
    "plt.title(\"Mean Error vs Fractions on MONK1\")\n",
    "plt.xlabel(\"Fractions\")\n",
    "plt.ylabel(\"Means of Error\")\n",
    "plt.legend(loc='upper right', frameon=False)\n",
    "plt.show()\n",
    "\n",
    "plt.plot(fractions, mean3, color='#fe5f55', marker='o', label=\"Means\")\n",
    "plt.title(\"Mean Error vs Fractions on MONK3\")\n",
    "plt.xlabel(\"Fractions\")\n",
    "plt.ylabel(\"Means of Error\")\n",
    "plt.legend(loc='upper right', frameon=False)\n",
    "plt.show()        \n"
   ]
  },
  {
   "cell_type": "markdown",
   "metadata": {},
   "source": [
    "Based on the graph, the minimum mean error for both cases, occurs for a partition with 0.8 fraction. Also, it is observed that a pruned tree has smaller mean error than the full tree, as expected. "
   ]
  },
  {
   "cell_type": "code",
   "execution_count": null,
   "metadata": {},
   "outputs": [],
   "source": []
  }
 ],
 "metadata": {
  "kernelspec": {
   "display_name": "Python 3",
   "language": "python",
   "name": "python3"
  },
  "language_info": {
   "codemirror_mode": {
    "name": "ipython",
    "version": 3
   },
   "file_extension": ".py",
   "mimetype": "text/x-python",
   "name": "python",
   "nbconvert_exporter": "python",
   "pygments_lexer": "ipython3",
   "version": "3.7.3"
  }
 },
 "nbformat": 4,
 "nbformat_minor": 2
}
